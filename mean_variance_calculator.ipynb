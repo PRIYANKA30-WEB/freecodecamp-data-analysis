{
  "nbformat": 4,
  "nbformat_minor": 0,
  "metadata": {
    "colab": {
      "provenance": [],
      "authorship_tag": "ABX9TyMIBaQBcVZLX39HUDh1PlLE",
      "include_colab_link": true
    },
    "kernelspec": {
      "name": "python3",
      "display_name": "Python 3"
    },
    "language_info": {
      "name": "python"
    }
  },
  "cells": [
    {
      "cell_type": "markdown",
      "metadata": {
        "id": "view-in-github",
        "colab_type": "text"
      },
      "source": [
        "<a href=\"https://colab.research.google.com/github/PRIYANKA30-WEB/freecodecamp-data-analysis/blob/main/mean_variance_calculator.ipynb\" target=\"_parent\"><img src=\"https://colab.research.google.com/assets/colab-badge.svg\" alt=\"Open In Colab\"/></a>"
      ]
    },
    {
      "cell_type": "code",
      "execution_count": 2,
      "metadata": {
        "colab": {
          "base_uri": "https://localhost:8080/"
        },
        "id": "Edrfot18QRxQ",
        "outputId": "6b5e4461-638d-417b-807e-e80192487c71"
      },
      "outputs": [
        {
          "output_type": "stream",
          "name": "stdout",
          "text": [
            "{'mean': [[np.float64(3.0), np.float64(4.0), np.float64(5.0)], [np.float64(1.0), np.float64(4.0), np.float64(7.0)], 4.0], 'variance': [[np.float64(6.0), np.float64(6.0), np.float64(6.0)], [np.float64(0.6666666666666666), np.float64(0.6666666666666666), np.float64(0.6666666666666666)], 6.666666666666667], 'standard deviation': [[np.float64(2.449489742783178), np.float64(2.449489742783178), np.float64(2.449489742783178)], [np.float64(0.816496580927726), np.float64(0.816496580927726), np.float64(0.816496580927726)], 2.581988897471611], 'max': [[np.int64(6), np.int64(7), np.int64(8)], [np.int64(2), np.int64(5), np.int64(8)], 8.0], 'min': [[np.int64(0), np.int64(1), np.int64(2)], [np.int64(0), np.int64(3), np.int64(6)], 0.0], 'sum': [[np.int64(9), np.int64(12), np.int64(15)], [np.int64(3), np.int64(12), np.int64(21)], 36.0]}\n"
          ]
        }
      ],
      "source": [
        "import numpy as np\n",
        "\n",
        "def calculate(input_list):\n",
        "    if len(input_list) != 9:\n",
        "        raise ValueError(\"List must contain nine numbers.\")\n",
        "\n",
        "    matrix = np.array(input_list).reshape(3, 3)\n",
        "\n",
        "    calculations = {\n",
        "        'mean': [list(np.mean(matrix, axis=0)), list(np.mean(matrix, axis=1)), float(np.mean(matrix))],\n",
        "        'variance': [list(np.var(matrix, axis=0)), list(np.var(matrix, axis=1)), float(np.var(matrix))],\n",
        "        'standard deviation': [list(np.std(matrix, axis=0)), list(np.std(matrix, axis=1)), float(np.std(matrix))],\n",
        "        'max': [list(np.max(matrix, axis=0)), list(np.max(matrix, axis=1)), float(np.max(matrix))],\n",
        "        'min': [list(np.min(matrix, axis=0)), list(np.min(matrix, axis=1)), float(np.min(matrix))],\n",
        "        'sum': [list(np.sum(matrix, axis=0)), list(np.sum(matrix, axis=1)), float(np.sum(matrix))]\n",
        "    }\n",
        "\n",
        "    return calculations\n",
        "\n",
        "# Call and print the function output\n",
        "output = calculate([0,1,2,3,4,5,6,7,8])\n",
        "print(output)"
      ]
    }
  ]
}